{
  "nbformat": 4,
  "nbformat_minor": 0,
  "metadata": {
    "colab": {
      "name": "Real Estate Web Scrapping(Makaan.com).ipynb",
      "provenance": [],
      "authorship_tag": "ABX9TyNr0iZloqfD1iGu1NBxFYXh",
      "include_colab_link": true
    },
    "kernelspec": {
      "name": "python3",
      "display_name": "Python 3"
    },
    "language_info": {
      "name": "python"
    }
  },
  "cells": [
    {
      "cell_type": "markdown",
      "metadata": {
        "id": "view-in-github",
        "colab_type": "text"
      },
      "source": [
        "<a href=\"https://colab.research.google.com/github/medamchan/RealEstate-WebScrapping-Makaan.com/blob/main/Real_Estate_Web_Scrapping(Makaan_com).ipynb\" target=\"_parent\"><img src=\"https://colab.research.google.com/assets/colab-badge.svg\" alt=\"Open In Colab\"/></a>"
      ]
    },
    {
      "cell_type": "code",
      "metadata": {
        "id": "HLi6yphnHAIO"
      },
      "source": [
        "import requests\n",
        "from bs4 import BeautifulSoup\n",
        "import pandas as pd\n",
        "import time"
      ],
      "execution_count": 21,
      "outputs": []
    },
    {
      "cell_type": "markdown",
      "metadata": {
        "id": "wxZNmTxMHNZp"
      },
      "source": [
        "**Base url of the web page**"
      ]
    },
    {
      "cell_type": "code",
      "metadata": {
        "id": "g_iiBPegHUnM"
      },
      "source": [
        "base_url = 'https://www.makaan.com/hyderabad-residential-property/buy-property-in-hyderabad-city?page='"
      ],
      "execution_count": 22,
      "outputs": []
    },
    {
      "cell_type": "markdown",
      "metadata": {
        "id": "VygZ8Kn0HzTd"
      },
      "source": [
        "**Created a List ffor Data to be Stored and Scrapped 50 pages Data**"
      ]
    },
    {
      "cell_type": "code",
      "metadata": {
        "id": "ye-fkUEQHzui"
      },
      "source": [
        "owner = []\n",
        "seller_type = []\n",
        "bhk = []\n",
        "price = []\n",
        "size = []\n",
        "loc = []\n",
        "status = []\n",
        "price_per_sqft = []\n",
        "\n",
        "for i in range(1,51):\n",
        "  time.sleep(3)   # to give a pause between each requests\n",
        "  url = base_url+str(i)\n",
        "  req = requests.get(url)\n",
        "  soup = BeautifulSoup(req.text,'html')\n",
        "\n",
        "  #owner info\n",
        "  ow_info = soup.findAll('div',attrs={'class':'seller-info'})\n",
        "  for j in ow_info:\n",
        "    owner.append(j.a.span.text)\n",
        "  \n",
        "  #seller type\n",
        "  s_typ = soup.findAll('span',attrs={'class':'seller-type'})\n",
        "  for j in s_typ:\n",
        "    seller_type.append(j.text)\n",
        "  \n",
        "  #bhk info\n",
        "  bhk_info = soup.findAll('div',attrs={'class':'title-line'})\n",
        "  for j in bhk_info:\n",
        "    bhk.append(j.strong.span.text)\n",
        "\n",
        "  #price info\n",
        "  p_info = soup.findAll('div',attrs={'data-type':'price-link'})\n",
        "  for  j in p_info:\n",
        "    price.append(j.text)\n",
        "  \n",
        "  #size info\n",
        "  s_info = soup.findAll(\"td\",attrs={'class':'size'})\n",
        "  for j in s_info:\n",
        "    size.append(j.text)\n",
        "  \n",
        "  #location info\n",
        "  loc_info = soup.findAll('span',attrs={'itemprop':'addressLocality'})\n",
        "  for j in loc_info:\n",
        "    loc.append(j.text)\n",
        "  \n",
        "  #status info\n",
        "  status_info = soup.findAll('tr',attrs={'class':'hcol w44'})\n",
        "  for j in status_info:\n",
        "    status.append(j.text)\n",
        "\n",
        "  #price per sqft info\n",
        "  pps_info = soup.findAll('td',attrs={'class':'size'})\n",
        "  for j in pps_info:\n",
        "    price_per_sqft.append(j.text)"
      ],
      "execution_count": 24,
      "outputs": []
    },
    {
      "cell_type": "markdown",
      "metadata": {
        "id": "YqK7Ug-LIhZE"
      },
      "source": [
        "**To Check the length to create Dataframe**"
      ]
    },
    {
      "cell_type": "code",
      "metadata": {
        "colab": {
          "base_uri": "https://localhost:8080/"
        },
        "id": "LSpUojxRIo9T",
        "outputId": "a9e4f1af-d05b-469c-9959-d405c49434f4"
      },
      "source": [
        "print('owner = ',len(owner))\n",
        "print('seller_type = ',len(seller_type))\n",
        "print('bhk = ',len(bhk))\n",
        "print('price = ',len(price))\n",
        "print('size =',len(size))\n",
        "print('loc = ',len(loc))\n",
        "print('status = ',len(status))\n",
        "print('price_per_sqft = ',len(price_per_sqft))"
      ],
      "execution_count": 25,
      "outputs": [
        {
          "output_type": "stream",
          "text": [
            "owner =  1000\n",
            "seller_type =  1000\n",
            "bhk =  1000\n",
            "price =  1000\n",
            "size = 1000\n",
            "loc =  1000\n",
            "status =  1000\n",
            "price_per_sqft =  1000\n"
          ],
          "name": "stdout"
        }
      ]
    },
    {
      "cell_type": "markdown",
      "metadata": {
        "id": "_ei9TZg1KL6k"
      },
      "source": [
        "**Creating Tabular data using DataFrame(Pandas)**"
      ]
    },
    {
      "cell_type": "code",
      "metadata": {
        "colab": {
          "base_uri": "https://localhost:8080/",
          "height": 419
        },
        "id": "rQ01VngTKVSS",
        "outputId": "3add4e3d-7130-438f-cb63-1982b84cc2f4"
      },
      "source": [
        "data = pd.DataFrame({'SELLER INFO':owner,\n",
        "                     'SELLER TYPE':seller_type,\n",
        "                     'BHK':bhk,\n",
        "                     'PRICE':price,\n",
        "                     'Area in sqft':size,\n",
        "                     'LOCATION':loc,\n",
        "                     'STATUS':status,\n",
        "                     'PRICE PER SQ.FT':price_per_sqft})\n",
        "data "
      ],
      "execution_count": 26,
      "outputs": [
        {
          "output_type": "execute_result",
          "data": {
            "text/html": [
              "<div>\n",
              "<style scoped>\n",
              "    .dataframe tbody tr th:only-of-type {\n",
              "        vertical-align: middle;\n",
              "    }\n",
              "\n",
              "    .dataframe tbody tr th {\n",
              "        vertical-align: top;\n",
              "    }\n",
              "\n",
              "    .dataframe thead th {\n",
              "        text-align: right;\n",
              "    }\n",
              "</style>\n",
              "<table border=\"1\" class=\"dataframe\">\n",
              "  <thead>\n",
              "    <tr style=\"text-align: right;\">\n",
              "      <th></th>\n",
              "      <th>SELLER INFO</th>\n",
              "      <th>SELLER TYPE</th>\n",
              "      <th>BHK</th>\n",
              "      <th>PRICE</th>\n",
              "      <th>Area in sqft</th>\n",
              "      <th>LOCATION</th>\n",
              "      <th>STATUS</th>\n",
              "      <th>PRICE PER SQ.FT</th>\n",
              "    </tr>\n",
              "  </thead>\n",
              "  <tbody>\n",
              "    <tr>\n",
              "      <th>0</th>\n",
              "      <td>Riddhi Group</td>\n",
              "      <td>BUILDER</td>\n",
              "      <td>4</td>\n",
              "      <td>1.83 Cr</td>\n",
              "      <td>3059</td>\n",
              "      <td>Upperpally</td>\n",
              "      <td>Under ConstructionConstruction Status</td>\n",
              "      <td>3059</td>\n",
              "    </tr>\n",
              "    <tr>\n",
              "      <th>1</th>\n",
              "      <td>Swamaan Developers</td>\n",
              "      <td>BUILDER</td>\n",
              "      <td>3</td>\n",
              "      <td>95.7 L</td>\n",
              "      <td>1709</td>\n",
              "      <td>Narsingi</td>\n",
              "      <td>Ready to moveConstruction Status</td>\n",
              "      <td>1709</td>\n",
              "    </tr>\n",
              "    <tr>\n",
              "      <th>2</th>\n",
              "      <td>Ramireddy Constructions</td>\n",
              "      <td>BUILDER</td>\n",
              "      <td>2</td>\n",
              "      <td>96 L</td>\n",
              "      <td>1173</td>\n",
              "      <td>Attapur</td>\n",
              "      <td>Under ConstructionConstruction Status</td>\n",
              "      <td>1173</td>\n",
              "    </tr>\n",
              "    <tr>\n",
              "      <th>3</th>\n",
              "      <td>Anuhar Homes Pvt Ltd</td>\n",
              "      <td>BUILDER</td>\n",
              "      <td>3</td>\n",
              "      <td>93.25 L</td>\n",
              "      <td>1636</td>\n",
              "      <td>Manikonda</td>\n",
              "      <td>Ready to moveConstruction Status</td>\n",
              "      <td>1636</td>\n",
              "    </tr>\n",
              "    <tr>\n",
              "      <th>4</th>\n",
              "      <td>Vessella Group</td>\n",
              "      <td>BUILDER</td>\n",
              "      <td>4</td>\n",
              "      <td>7.04 Cr</td>\n",
              "      <td>4259</td>\n",
              "      <td>Serilingampally</td>\n",
              "      <td>Under ConstructionConstruction Status</td>\n",
              "      <td>4259</td>\n",
              "    </tr>\n",
              "    <tr>\n",
              "      <th>...</th>\n",
              "      <td>...</td>\n",
              "      <td>...</td>\n",
              "      <td>...</td>\n",
              "      <td>...</td>\n",
              "      <td>...</td>\n",
              "      <td>...</td>\n",
              "      <td>...</td>\n",
              "      <td>...</td>\n",
              "    </tr>\n",
              "    <tr>\n",
              "      <th>995</th>\n",
              "      <td>RK Properties</td>\n",
              "      <td>AGENT</td>\n",
              "      <td>3</td>\n",
              "      <td>1.43 Cr</td>\n",
              "      <td>2400</td>\n",
              "      <td>Manchirevula</td>\n",
              "      <td>Under ConstructionConstruction Status</td>\n",
              "      <td>2400</td>\n",
              "    </tr>\n",
              "    <tr>\n",
              "      <th>996</th>\n",
              "      <td>RK Properties</td>\n",
              "      <td>AGENT</td>\n",
              "      <td>2</td>\n",
              "      <td>77.98 L</td>\n",
              "      <td>1300</td>\n",
              "      <td>Manchirevula</td>\n",
              "      <td>Under ConstructionConstruction Status</td>\n",
              "      <td>1300</td>\n",
              "    </tr>\n",
              "    <tr>\n",
              "      <th>997</th>\n",
              "      <td>RK Properties</td>\n",
              "      <td>AGENT</td>\n",
              "      <td>4</td>\n",
              "      <td>2.39 Cr</td>\n",
              "      <td>4000</td>\n",
              "      <td>Nanakramguda</td>\n",
              "      <td>Under ConstructionConstruction Status</td>\n",
              "      <td>4000</td>\n",
              "    </tr>\n",
              "    <tr>\n",
              "      <th>998</th>\n",
              "      <td>RK Properties</td>\n",
              "      <td>AGENT</td>\n",
              "      <td>2</td>\n",
              "      <td>77.98 L</td>\n",
              "      <td>1300</td>\n",
              "      <td>Nanakramguda</td>\n",
              "      <td>Under ConstructionConstruction Status</td>\n",
              "      <td>1300</td>\n",
              "    </tr>\n",
              "    <tr>\n",
              "      <th>999</th>\n",
              "      <td>RK Properties</td>\n",
              "      <td>AGENT</td>\n",
              "      <td>3</td>\n",
              "      <td>1.07 Cr</td>\n",
              "      <td>1800</td>\n",
              "      <td>Nanakramguda</td>\n",
              "      <td>Under ConstructionConstruction Status</td>\n",
              "      <td>1800</td>\n",
              "    </tr>\n",
              "  </tbody>\n",
              "</table>\n",
              "<p>1000 rows × 8 columns</p>\n",
              "</div>"
            ],
            "text/plain": [
              "                 SELLER INFO  ... PRICE PER SQ.FT\n",
              "0               Riddhi Group  ...           3059 \n",
              "1         Swamaan Developers  ...           1709 \n",
              "2    Ramireddy Constructions  ...           1173 \n",
              "3       Anuhar Homes Pvt Ltd  ...           1636 \n",
              "4             Vessella Group  ...           4259 \n",
              "..                       ...  ...             ...\n",
              "995            RK Properties  ...           2400 \n",
              "996            RK Properties  ...           1300 \n",
              "997            RK Properties  ...           4000 \n",
              "998            RK Properties  ...           1300 \n",
              "999            RK Properties  ...           1800 \n",
              "\n",
              "[1000 rows x 8 columns]"
            ]
          },
          "metadata": {
            "tags": []
          },
          "execution_count": 26
        }
      ]
    },
    {
      "cell_type": "markdown",
      "metadata": {
        "id": "vZ-jhBGyS5eL"
      },
      "source": [
        "**Converting DataFrame to CSV**"
      ]
    },
    {
      "cell_type": "code",
      "metadata": {
        "id": "DdvKIve_TAt_"
      },
      "source": [
        "data.to_csv('50 pages of real estate details from makaan.csv',index=False)"
      ],
      "execution_count": 27,
      "outputs": []
    }
  ]
}